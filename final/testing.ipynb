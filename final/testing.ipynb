{
 "cells": [
  {
   "cell_type": "code",
   "execution_count": 1,
   "metadata": {},
   "outputs": [
    {
     "name": "stderr",
     "output_type": "stream",
     "text": [
      "/Users/dipalshah/Desktop/bitsdatathon/.venv/lib/python3.12/site-packages/tqdm/auto.py:21: TqdmWarning: IProgress not found. Please update jupyter and ipywidgets. See https://ipywidgets.readthedocs.io/en/stable/user_install.html\n",
      "  from .autonotebook import tqdm as notebook_tqdm\n",
      "No sentence-transformers model found with name ProsusAI/finbert. Creating a new one with mean pooling.\n"
     ]
    }
   ],
   "source": [
    "from retrievalAugmentedTransformer import RAT, Data_Processing"
   ]
  },
  {
   "cell_type": "code",
   "execution_count": 2,
   "metadata": {},
   "outputs": [
    {
     "name": "stdout",
     "output_type": "stream",
     "text": [
      "YF.download() has changed argument auto_adjust default to True\n"
     ]
    },
    {
     "name": "stderr",
     "output_type": "stream",
     "text": [
      "[*********************100%***********************]  13 of 13 completed\n"
     ]
    }
   ],
   "source": [
    "dp = Data_Processing()\n",
    "df = dp.get_data(\"AAPL\", \"2020-01-01\", \"2025-04-02\")"
   ]
  },
  {
   "cell_type": "code",
   "execution_count": 3,
   "metadata": {},
   "outputs": [
    {
     "name": "stdout",
     "output_type": "stream",
     "text": [
      "(1319, 22)\n",
      "(1319, 7)\n"
     ]
    }
   ],
   "source": [
    "print(df.shape)\n",
    "df = dp.preprocess_features(df)\n",
    "print(df.shape)"
   ]
  },
  {
   "cell_type": "code",
   "execution_count": 4,
   "metadata": {},
   "outputs": [],
   "source": [
    "rat = RAT(\"AAPL\", len(df.columns))\n",
    "X, y = dp.format_data_combined(df, rat, 10, 5)"
   ]
  },
  {
   "cell_type": "code",
   "execution_count": 5,
   "metadata": {},
   "outputs": [
    {
     "data": {
      "text/plain": [
       "tensor([[ 0.1499,  0.1358,  0.0778,  ..., -0.2751,  0.0315,  0.0050],\n",
       "        [ 0.0973,  0.0139,  0.2869,  ..., -0.5628,  0.0362,  0.0250],\n",
       "        [ 0.0685,  0.0960,  0.2182,  ..., -0.1976, -0.0740,  0.0978],\n",
       "        [ 0.0692,  0.2341,  0.1467,  ..., -0.2626, -0.0088,  0.0845],\n",
       "        [ 0.1811, -0.0029,  0.4016,  ..., -0.5056,  0.1019, -0.0202]])"
      ]
     },
     "execution_count": 5,
     "metadata": {},
     "output_type": "execute_result"
    }
   ],
   "source": [
    "rat.query_articles(\"AAPL\")"
   ]
  },
  {
   "cell_type": "code",
   "execution_count": 6,
   "metadata": {},
   "outputs": [
    {
     "name": "stderr",
     "output_type": "stream",
     "text": [
      "/Users/dipalshah/Desktop/bitsdatathon/.venv/lib/python3.12/site-packages/torch/optim/lr_scheduler.py:28: UserWarning: The verbose parameter is deprecated. Please use get_last_lr() to access the learning rate.\n",
      "  warnings.warn(\"The verbose parameter is deprecated. Please use get_last_lr() \"\n"
     ]
    },
    {
     "ename": "RuntimeError",
     "evalue": "shape '[32, 5, 2]' is invalid for input of size 64",
     "output_type": "error",
     "traceback": [
      "\u001b[31m---------------------------------------------------------------------------\u001b[39m",
      "\u001b[31mRuntimeError\u001b[39m                              Traceback (most recent call last)",
      "\u001b[36mCell\u001b[39m\u001b[36m \u001b[39m\u001b[32mIn[6]\u001b[39m\u001b[32m, line 1\u001b[39m\n\u001b[32m----> \u001b[39m\u001b[32m1\u001b[39m \u001b[43mrat\u001b[49m\u001b[43m.\u001b[49m\u001b[43mtrain_model\u001b[49m\u001b[43m(\u001b[49m\u001b[43mX\u001b[49m\u001b[43m,\u001b[49m\u001b[43m \u001b[49m\u001b[43my\u001b[49m\u001b[43m,\u001b[49m\u001b[43m \u001b[49m\u001b[43mepochs\u001b[49m\u001b[43m \u001b[49m\u001b[43m=\u001b[49m\u001b[43m \u001b[49m\u001b[32;43m100\u001b[39;49m\u001b[43m)\u001b[49m\n",
      "\u001b[36mFile \u001b[39m\u001b[32m~/Desktop/bitsdatathon/final/retrievalAugmentedTransformer.py:96\u001b[39m, in \u001b[36mRAT.train_model\u001b[39m\u001b[34m(self, X, y, epochs, batch_size, patience, validation_split)\u001b[39m\n\u001b[32m     94\u001b[39m \u001b[38;5;66;03m# Reshape if needed based on your model output\u001b[39;00m\n\u001b[32m     95\u001b[39m \u001b[38;5;28;01mif\u001b[39;00m output.shape != y_batch.shape:\n\u001b[32m---> \u001b[39m\u001b[32m96\u001b[39m     output = \u001b[43moutput\u001b[49m\u001b[43m.\u001b[49m\u001b[43mview\u001b[49m\u001b[43m(\u001b[49m\u001b[43my_batch\u001b[49m\u001b[43m.\u001b[49m\u001b[43mshape\u001b[49m\u001b[43m)\u001b[49m\n\u001b[32m     98\u001b[39m loss = criterion(output, y_batch)\n\u001b[32m     99\u001b[39m loss.backward(retain_graph=\u001b[38;5;28;01mTrue\u001b[39;00m)\n",
      "\u001b[31mRuntimeError\u001b[39m: shape '[32, 5, 2]' is invalid for input of size 64"
     ]
    }
   ],
   "source": [
    "rat.train_model(X, y, epochs = 100)"
   ]
  },
  {
   "cell_type": "code",
   "execution_count": null,
   "metadata": {},
   "outputs": [],
   "source": [
    "scale_preds, preds = rat.predict(X[-20:])"
   ]
  },
  {
   "cell_type": "code",
   "execution_count": null,
   "metadata": {},
   "outputs": [
    {
     "name": "stdout",
     "output_type": "stream",
     "text": [
      "torch.Size([20, 10, 8])\n"
     ]
    },
    {
     "data": {
      "text/plain": [
       "torch.Size([20, 5, 2])"
      ]
     },
     "execution_count": 8,
     "metadata": {},
     "output_type": "execute_result"
    }
   ],
   "source": [
    "print(X[-20:].shape)\n",
    "scale_preds.shape"
   ]
  },
  {
   "cell_type": "code",
   "execution_count": null,
   "metadata": {},
   "outputs": [
    {
     "data": {
      "text/plain": [
       "[<matplotlib.lines.Line2D at 0x14b522480>,\n",
       " <matplotlib.lines.Line2D at 0x14b5224b0>]"
      ]
     },
     "execution_count": 9,
     "metadata": {},
     "output_type": "execute_result"
    },
    {
     "data": {
      "image/png": "[encoded data removed]",
      "text/plain": [
       "<Figure size 640x480 with 1 Axes>"
      ]
     },
     "metadata": {},
     "output_type": "display_data"
    }
   ],
   "source": [
    "import matplotlib.pyplot as plt\n",
    "plt.plot(X[-20:, 0, :2], color = \"red\")\n",
    "plt.plot(scale_preds[:, 0], color = \"cyan\")"
   ]
  },
  {
   "cell_type": "code",
   "execution_count": null,
   "metadata": {},
   "outputs": [],
   "source": [
    "import torch\n",
    "torch.save(rat.state_dict(), \"saved_models/rat.pth\")"
   ]
  },
  {
   "cell_type": "code",
   "execution_count": null,
   "metadata": {},
   "outputs": [],
   "source": [
    "import pandas as pd\n",
    "import requests\n",
    "\n",
    "def fetch_macro_data():\n",
    "    # FRED series IDs for macroeconomic indicators\n",
    "    series_ids = {\n",
    "        \"Fed_Funds_Rate\": \"FEDFUNDS\",\n",
    "        \"CPI\": \"CPIAUCSL\",\n",
    "        \"GDP\": \"GDPC1\",\n",
    "        \"Unemployment_Rate\": \"UNRATE\",\n",
    "        \"Money_Supply\": \"M2SL\",\n",
    "        \"Retail_Sales\": \"RSXFS\",\n",
    "        \"Oil_Price\": \"IR14250\"\n",
    "    }\n",
    "\n",
    "    base_url = \"https://api.stlouisfed.org/fred/series/observations\"\n",
    "    macro_data = pd.DataFrame()\n",
    "\n",
    "    # Get the full range of dates you need (e.g., from 2000-01-01 to the most recent available date)\n",
    "    date_range = pd.date_range(start=\"2000-01-01\", end=pd.to_datetime('today'))\n",
    "\n",
    "    for column, series_id in series_ids.items():\n",
    "        # Construct the URL and parameters\n",
    "        params = {\n",
    "            \"api_key\": \"d2a5f8b122ea6046576eb67cd258404f\",  # Replace with your actual API key\n",
    "            \"file_type\": \"json\",\n",
    "            \"series_id\": series_id,\n",
    "            \"observation_start\": \"2000-01-01\",\n",
    "        }\n",
    "\n",
    "        # Fetch the data\n",
    "        response = requests.get(base_url, params=params)\n",
    "        data = response.json()\n",
    "\n",
    "        # Parse and format the response data\n",
    "        observations = data.get(\"observations\", [])\n",
    "        df = pd.DataFrame(observations)\n",
    "        df[\"date\"] = pd.to_datetime(df[\"date\"])\n",
    "        df.set_index(\"date\", inplace=True)\n",
    "        df[\"value\"] = pd.to_numeric(df[\"value\"], errors=\"coerce\")\n",
    "\n",
    "        # Create a DataFrame with all the dates in the date range\n",
    "        full_df = pd.DataFrame(index=date_range)\n",
    "\n",
    "        # Merge the fetched data with the full date range\n",
    "        full_df = full_df.merge(df[\"value\"], how=\"left\", left_index=True, right_index=True)\n",
    "        \n",
    "        # Forward fill missing data\n",
    "        full_df[\"value\"] = full_df[\"value\"].ffill()\n",
    "\n",
    "        # Add the data to the macro_data DataFrame\n",
    "        macro_data[column] = full_df[\"value\"]\n",
    "\n",
    "    # Return the final DataFrame with all macroeconomic indicators\n",
    "    return macro_data\n",
    "\n",
    "# Example usage:\n",
    "macro_data = fetch_macro_data()\n",
    "#macro_data.to_csv(\"../data/new_macro_data.csv\", index = True)"
   ]
  }
 ],
 "metadata": {
  "kernelspec": {
   "display_name": ".venv",
   "language": "python",
   "name": "python3"
  },
  "language_info": {
   "codemirror_mode": {
    "name": "ipython",
    "version": 3
   },
   "file_extension": ".py",
   "mimetype": "text/x-python",
   "name": "python",
   "nbconvert_exporter": "python",
   "pygments_lexer": "ipython3",
   "version": "3.12.8"
  }
 },
 "nbformat": 4,
 "nbformat_minor": 2
}
