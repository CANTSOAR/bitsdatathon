{
 "cells": [
  {
   "cell_type": "code",
   "execution_count": 1,
   "metadata": {},
   "outputs": [],
   "source": [
    "from retrievalAugmentedTransformer import RAT, Data_Processing"
   ]
  },
  {
   "cell_type": "code",
   "execution_count": 2,
   "metadata": {},
   "outputs": [
    {
     "name": "stderr",
     "output_type": "stream",
     "text": [
      "/opt/anaconda3/lib/python3.12/site-packages/torch/nn/modules/transformer.py:385: UserWarning: enable_nested_tensor is True, but self.use_nested_tensor is False because encoder_layer.self_attn.batch_first was not True(use batch_first for better inference performance)\n",
      "  warnings.warn(\n"
     ]
    },
    {
     "name": "stdout",
     "output_type": "stream",
     "text": [
      "YF.download() has changed argument auto_adjust default to True\n"
     ]
    },
    {
     "name": "stderr",
     "output_type": "stream",
     "text": [
      "[*********************100%***********************]  13 of 13 completed\n"
     ]
    },
    {
     "name": "stdout",
     "output_type": "stream",
     "text": [
      "tensor([[[-1.8734,  0.8852, -0.4331,  ..., -1.6952, -1.4825, -1.0864],\n",
      "         [-1.8894,  1.0909, -0.4331,  ..., -1.7427, -1.5193, -0.8954],\n",
      "         [-1.8764,  0.5609, -0.4331,  ..., -1.7091, -1.5074, -0.9163],\n",
      "         ...,\n",
      "         [-1.7828,  0.6206, -0.4331,  ..., -1.6786, -1.4883, -1.1049],\n",
      "         [-1.8062,  1.3874, -0.4331,  ..., -1.6456, -1.4896, -1.0962],\n",
      "         [-1.8135,  0.6280, -0.4331,  ..., -1.5981, -1.4995, -1.0925]],\n",
      "\n",
      "        [[-1.8894,  1.0909, -0.4331,  ..., -1.7427, -1.5193, -0.8954],\n",
      "         [-1.8764,  0.5609, -0.4331,  ..., -1.7091, -1.5074, -0.9163],\n",
      "         [-1.8841,  0.3804, -0.4331,  ..., -1.7197, -1.5142, -0.9237],\n",
      "         ...,\n",
      "         [-1.8062,  1.3874, -0.4331,  ..., -1.6456, -1.4896, -1.0962],\n",
      "         [-1.8135,  0.6280, -0.4331,  ..., -1.5981, -1.4995, -1.0925],\n",
      "         [-1.7922,  0.3796, -0.4331,  ..., -1.5692, -1.4610, -1.1049]],\n",
      "\n",
      "        [[-1.8764,  0.5609, -0.4331,  ..., -1.7091, -1.5074, -0.9163],\n",
      "         [-1.8841,  0.3804, -0.4331,  ..., -1.7197, -1.5142, -0.9237],\n",
      "         [-1.8579,  0.8207, -0.4331,  ..., -1.6845, -1.5012, -0.9656],\n",
      "         ...,\n",
      "         [-1.8135,  0.6280, -0.4331,  ..., -1.5981, -1.4995, -1.0925],\n",
      "         [-1.7922,  0.3796, -0.4331,  ..., -1.5692, -1.4610, -1.1049],\n",
      "         [-1.7731,  0.9295, -0.4331,  ..., -1.5692, -1.4457, -1.1320]],\n",
      "\n",
      "        ...,\n",
      "\n",
      "        [[ 1.3779, -0.4985,  0.7765,  ...,  1.2109,  1.2178,  0.3629],\n",
      "         [ 1.2133, -0.5208,  0.7765,  ...,  1.1664,  1.0425,  0.4159],\n",
      "         [ 1.2992, -0.5448,  0.7765,  ...,  1.2299,  1.1882,  0.0597],\n",
      "         ...,\n",
      "         [ 1.4069,  0.1007,  0.7765,  ...,  1.3265,  1.2149, -0.2471],\n",
      "         [ 1.4624, -0.8447,  0.7765,  ...,  1.3912,  1.4781, -0.4690],\n",
      "         [ 1.5304, -1.0307,  0.7765,  ...,  1.2821,  1.5363, -0.5096]],\n",
      "\n",
      "        [[ 1.2133, -0.5208,  0.7765,  ...,  1.1664,  1.0425,  0.4159],\n",
      "         [ 1.2992, -0.5448,  0.7765,  ...,  1.2299,  1.1882,  0.0597],\n",
      "         [ 1.3107, -0.7731,  0.7765,  ...,  1.3363,  1.1993, -0.0956],\n",
      "         ...,\n",
      "         [ 1.4624, -0.8447,  0.7765,  ...,  1.3912,  1.4781, -0.4690],\n",
      "         [ 1.5304, -1.0307,  0.7765,  ...,  1.2821,  1.5363, -0.5096],\n",
      "         [ 1.4804, -1.0312,  0.7765,  ...,  1.2513,  1.4403, -0.3642]],\n",
      "\n",
      "        [[ 1.2992, -0.5448,  0.7765,  ...,  1.2299,  1.1882,  0.0597],\n",
      "         [ 1.3107, -0.7731,  0.7765,  ...,  1.3363,  1.1993, -0.0956],\n",
      "         [ 1.2812, -0.8801,  0.7765,  ...,  1.3403,  1.0745,  0.0511],\n",
      "         ...,\n",
      "         [ 1.5304, -1.0307,  0.7765,  ...,  1.2821,  1.5363, -0.5096],\n",
      "         [ 1.4804, -1.0312,  0.7765,  ...,  1.2513,  1.4403, -0.3642],\n",
      "         [ 1.5327, -0.9813,  0.7765,  ...,  1.2647,  1.4450, -0.3199]]])\n",
      "tensor([[[-1.7922],\n",
      "         [-1.7731],\n",
      "         [-1.7849]],\n",
      "\n",
      "        [[-1.7731],\n",
      "         [-1.7849],\n",
      "         [-1.7788]],\n",
      "\n",
      "        [[-1.7849],\n",
      "         [-1.7788],\n",
      "         [-1.7704]],\n",
      "\n",
      "        ...,\n",
      "\n",
      "        [[ 1.4804],\n",
      "         [ 1.5327],\n",
      "         [ 1.3986]],\n",
      "\n",
      "        [[ 1.5327],\n",
      "         [ 1.3986],\n",
      "         [ 1.4939]],\n",
      "\n",
      "        [[ 1.3986],\n",
      "         [ 1.4939],\n",
      "         [ 1.5178]]])\n"
     ]
    }
   ],
   "source": [
    "rat = RAT(\"AAPL\", 22)\n",
    "dp = Data_Processing(rat)\n",
    "df = dp.get_data(\"AAPL\", \"2020-01-01\", \"2025-04-02\")\n",
    "\n",
    "X, y = dp.format_data_combined(df, 10, 3)\n",
    "print(X)\n",
    "print(y)"
   ]
  },
  {
   "cell_type": "code",
   "execution_count": 3,
   "metadata": {},
   "outputs": [
    {
     "name": "stderr",
     "output_type": "stream",
     "text": [
      "/opt/anaconda3/lib/python3.12/site-packages/torch/optim/lr_scheduler.py:62: UserWarning: The verbose parameter is deprecated. Please use get_last_lr() to access the learning rate.\n",
      "  warnings.warn(\n"
     ]
    },
    {
     "ename": "OperationFailure",
     "evalue": "PlanExecutor error during aggregation :: caused by :: vector field is indexed with 768 dimensions but queried with 384, full error: {'ok': 0.0, 'errmsg': 'PlanExecutor error during aggregation :: caused by :: vector field is indexed with 768 dimensions but queried with 384', 'code': 8, 'codeName': 'UnknownError', '$clusterTime': {'clusterTime': Timestamp(1743679317, 36), 'signature': {'hash': b']\\xaa|k\\xa0\\xd0\\xb4H,\\x89\\x86\\xa9\\x18\\xccQ\\x9dKK\\x93K', 'keyId': 7436340156212183079}}, 'operationTime': Timestamp(1743679317, 36)}",
     "output_type": "error",
     "traceback": [
      "\u001b[0;31m---------------------------------------------------------------------------\u001b[0m",
      "\u001b[0;31mOperationFailure\u001b[0m                          Traceback (most recent call last)",
      "Cell \u001b[0;32mIn[3], line 1\u001b[0m\n\u001b[0;32m----> 1\u001b[0m rat\u001b[38;5;241m.\u001b[39mtrain_model(X, y, epochs \u001b[38;5;241m=\u001b[39m \u001b[38;5;241m1000\u001b[39m)\n",
      "File \u001b[0;32m~/Coding/bitsdatathon/final/retrievalAugmentedTransformer.py:102\u001b[0m, in \u001b[0;36mRAT.train_model\u001b[0;34m(self, X, y, epochs, batch_size, patience, validation_split)\u001b[0m\n\u001b[1;32m    100\u001b[0m \u001b[38;5;28;01mfor\u001b[39;00m X_batch, y_batch \u001b[38;5;129;01min\u001b[39;00m train_dataloader:\n\u001b[1;32m    101\u001b[0m     optimizer\u001b[38;5;241m.\u001b[39mzero_grad()\n\u001b[0;32m--> 102\u001b[0m     output \u001b[38;5;241m=\u001b[39m \u001b[38;5;28mself\u001b[39m(X_batch)\n\u001b[1;32m    104\u001b[0m     \u001b[38;5;66;03m# Reshape if needed based on your model output\u001b[39;00m\n\u001b[1;32m    105\u001b[0m     \u001b[38;5;28;01mif\u001b[39;00m output\u001b[38;5;241m.\u001b[39mshape \u001b[38;5;241m!=\u001b[39m y_batch\u001b[38;5;241m.\u001b[39mshape:\n",
      "File \u001b[0;32m/opt/anaconda3/lib/python3.12/site-packages/torch/nn/modules/module.py:1739\u001b[0m, in \u001b[0;36mModule._wrapped_call_impl\u001b[0;34m(self, *args, **kwargs)\u001b[0m\n\u001b[1;32m   1737\u001b[0m     \u001b[38;5;28;01mreturn\u001b[39;00m \u001b[38;5;28mself\u001b[39m\u001b[38;5;241m.\u001b[39m_compiled_call_impl(\u001b[38;5;241m*\u001b[39margs, \u001b[38;5;241m*\u001b[39m\u001b[38;5;241m*\u001b[39mkwargs)  \u001b[38;5;66;03m# type: ignore[misc]\u001b[39;00m\n\u001b[1;32m   1738\u001b[0m \u001b[38;5;28;01melse\u001b[39;00m:\n\u001b[0;32m-> 1739\u001b[0m     \u001b[38;5;28;01mreturn\u001b[39;00m \u001b[38;5;28mself\u001b[39m\u001b[38;5;241m.\u001b[39m_call_impl(\u001b[38;5;241m*\u001b[39margs, \u001b[38;5;241m*\u001b[39m\u001b[38;5;241m*\u001b[39mkwargs)\n",
      "File \u001b[0;32m/opt/anaconda3/lib/python3.12/site-packages/torch/nn/modules/module.py:1750\u001b[0m, in \u001b[0;36mModule._call_impl\u001b[0;34m(self, *args, **kwargs)\u001b[0m\n\u001b[1;32m   1745\u001b[0m \u001b[38;5;66;03m# If we don't have any hooks, we want to skip the rest of the logic in\u001b[39;00m\n\u001b[1;32m   1746\u001b[0m \u001b[38;5;66;03m# this function, and just call forward.\u001b[39;00m\n\u001b[1;32m   1747\u001b[0m \u001b[38;5;28;01mif\u001b[39;00m \u001b[38;5;129;01mnot\u001b[39;00m (\u001b[38;5;28mself\u001b[39m\u001b[38;5;241m.\u001b[39m_backward_hooks \u001b[38;5;129;01mor\u001b[39;00m \u001b[38;5;28mself\u001b[39m\u001b[38;5;241m.\u001b[39m_backward_pre_hooks \u001b[38;5;129;01mor\u001b[39;00m \u001b[38;5;28mself\u001b[39m\u001b[38;5;241m.\u001b[39m_forward_hooks \u001b[38;5;129;01mor\u001b[39;00m \u001b[38;5;28mself\u001b[39m\u001b[38;5;241m.\u001b[39m_forward_pre_hooks\n\u001b[1;32m   1748\u001b[0m         \u001b[38;5;129;01mor\u001b[39;00m _global_backward_pre_hooks \u001b[38;5;129;01mor\u001b[39;00m _global_backward_hooks\n\u001b[1;32m   1749\u001b[0m         \u001b[38;5;129;01mor\u001b[39;00m _global_forward_hooks \u001b[38;5;129;01mor\u001b[39;00m _global_forward_pre_hooks):\n\u001b[0;32m-> 1750\u001b[0m     \u001b[38;5;28;01mreturn\u001b[39;00m forward_call(\u001b[38;5;241m*\u001b[39margs, \u001b[38;5;241m*\u001b[39m\u001b[38;5;241m*\u001b[39mkwargs)\n\u001b[1;32m   1752\u001b[0m result \u001b[38;5;241m=\u001b[39m \u001b[38;5;28;01mNone\u001b[39;00m\n\u001b[1;32m   1753\u001b[0m called_always_called_hooks \u001b[38;5;241m=\u001b[39m \u001b[38;5;28mset\u001b[39m()\n",
      "File \u001b[0;32m~/Coding/bitsdatathon/final/retrievalAugmentedTransformer.py:44\u001b[0m, in \u001b[0;36mRAT.forward\u001b[0;34m(self, x)\u001b[0m\n\u001b[1;32m     40\u001b[0m \u001b[38;5;28;01mdef\u001b[39;00m \u001b[38;5;21mforward\u001b[39m(\u001b[38;5;28mself\u001b[39m, x):\n\u001b[1;32m     41\u001b[0m     \u001b[38;5;66;03m# Encoder\u001b[39;00m\n\u001b[1;32m     42\u001b[0m     x1 \u001b[38;5;241m=\u001b[39m \u001b[38;5;28mself\u001b[39m\u001b[38;5;241m.\u001b[39membedding(x)  \u001b[38;5;66;03m# [batch_size, seq_len, embed_dim]\u001b[39;00m\n\u001b[0;32m---> 44\u001b[0m     article_embeds \u001b[38;5;241m=\u001b[39m \u001b[38;5;28mself\u001b[39m\u001b[38;5;241m.\u001b[39mquery_articles(\u001b[38;5;28mself\u001b[39m\u001b[38;5;241m.\u001b[39mstock)\n\u001b[1;32m     45\u001b[0m     x2 \u001b[38;5;241m=\u001b[39m \u001b[38;5;28mself\u001b[39m\u001b[38;5;241m.\u001b[39marticle_projection(article_embeds)\n\u001b[1;32m     46\u001b[0m     x2 \u001b[38;5;241m=\u001b[39m x2\u001b[38;5;241m.\u001b[39munsqueeze(\u001b[38;5;241m0\u001b[39m)\u001b[38;5;241m.\u001b[39mexpand(x1\u001b[38;5;241m.\u001b[39mshape[\u001b[38;5;241m0\u001b[39m], \u001b[38;5;241m-\u001b[39m\u001b[38;5;241m1\u001b[39m, \u001b[38;5;241m-\u001b[39m\u001b[38;5;241m1\u001b[39m)\n",
      "File \u001b[0;32m~/Coding/bitsdatathon/final/retrievalAugmentedTransformer.py:204\u001b[0m, in \u001b[0;36mRAT.query_articles\u001b[0;34m(self, stock_name, top_k, show)\u001b[0m\n\u001b[1;32m    189\u001b[0m search_query \u001b[38;5;241m=\u001b[39m {\n\u001b[1;32m    190\u001b[0m     \u001b[38;5;124m\"\u001b[39m\u001b[38;5;124m$vectorSearch\u001b[39m\u001b[38;5;124m\"\u001b[39m: {\n\u001b[1;32m    191\u001b[0m         \u001b[38;5;124m\"\u001b[39m\u001b[38;5;124mindex\u001b[39m\u001b[38;5;124m\"\u001b[39m: \u001b[38;5;124m\"\u001b[39m\u001b[38;5;124mvector_index\u001b[39m\u001b[38;5;124m\"\u001b[39m,  \u001b[38;5;66;03m# Use your actual index name\u001b[39;00m\n\u001b[0;32m   (...)\u001b[0m\n\u001b[1;32m    196\u001b[0m     }\n\u001b[1;32m    197\u001b[0m }\n\u001b[1;32m    199\u001b[0m pipeline \u001b[38;5;241m=\u001b[39m [\n\u001b[1;32m    200\u001b[0m     search_query,  \u001b[38;5;66;03m# $search stage must be inside an aggregation pipeline\u001b[39;00m\n\u001b[1;32m    201\u001b[0m     {\u001b[38;5;124m\"\u001b[39m\u001b[38;5;124m$limit\u001b[39m\u001b[38;5;124m\"\u001b[39m: top_k}  \u001b[38;5;66;03m# Optional: Ensures we don't get excessive results\u001b[39;00m\n\u001b[1;32m    202\u001b[0m ]\n\u001b[0;32m--> 204\u001b[0m results \u001b[38;5;241m=\u001b[39m \u001b[38;5;28mlist\u001b[39m(collection\u001b[38;5;241m.\u001b[39maggregate(pipeline))\n\u001b[1;32m    205\u001b[0m embeddings \u001b[38;5;241m=\u001b[39m [doc[\u001b[38;5;124m'\u001b[39m\u001b[38;5;124membedding\u001b[39m\u001b[38;5;124m'\u001b[39m] \u001b[38;5;28;01mfor\u001b[39;00m doc \u001b[38;5;129;01min\u001b[39;00m results]\n\u001b[1;32m    206\u001b[0m \u001b[38;5;28mself\u001b[39m\u001b[38;5;241m.\u001b[39msaved_embeds \u001b[38;5;241m=\u001b[39m torch\u001b[38;5;241m.\u001b[39mtensor(embeddings)\n",
      "File \u001b[0;32m/opt/anaconda3/lib/python3.12/site-packages/pymongo/synchronous/collection.py:2978\u001b[0m, in \u001b[0;36mCollection.aggregate\u001b[0;34m(self, pipeline, session, let, comment, **kwargs)\u001b[0m\n\u001b[1;32m   2902\u001b[0m \u001b[38;5;250m\u001b[39m\u001b[38;5;124;03m\"\"\"Perform an aggregation using the aggregation framework on this\u001b[39;00m\n\u001b[1;32m   2903\u001b[0m \u001b[38;5;124;03mcollection.\u001b[39;00m\n\u001b[1;32m   2904\u001b[0m \n\u001b[0;32m   (...)\u001b[0m\n\u001b[1;32m   2975\u001b[0m \u001b[38;5;124;03m    https://mongodb.com/docs/manual/reference/command/aggregate\u001b[39;00m\n\u001b[1;32m   2976\u001b[0m \u001b[38;5;124;03m\"\"\"\u001b[39;00m\n\u001b[1;32m   2977\u001b[0m \u001b[38;5;28;01mwith\u001b[39;00m \u001b[38;5;28mself\u001b[39m\u001b[38;5;241m.\u001b[39m_database\u001b[38;5;241m.\u001b[39mclient\u001b[38;5;241m.\u001b[39m_tmp_session(session, close\u001b[38;5;241m=\u001b[39m\u001b[38;5;28;01mFalse\u001b[39;00m) \u001b[38;5;28;01mas\u001b[39;00m s:\n\u001b[0;32m-> 2978\u001b[0m     \u001b[38;5;28;01mreturn\u001b[39;00m \u001b[38;5;28mself\u001b[39m\u001b[38;5;241m.\u001b[39m_aggregate(\n\u001b[1;32m   2979\u001b[0m         _CollectionAggregationCommand,\n\u001b[1;32m   2980\u001b[0m         pipeline,\n\u001b[1;32m   2981\u001b[0m         CommandCursor,\n\u001b[1;32m   2982\u001b[0m         session\u001b[38;5;241m=\u001b[39ms,\n\u001b[1;32m   2983\u001b[0m         explicit_session\u001b[38;5;241m=\u001b[39msession \u001b[38;5;129;01mis\u001b[39;00m \u001b[38;5;129;01mnot\u001b[39;00m \u001b[38;5;28;01mNone\u001b[39;00m,\n\u001b[1;32m   2984\u001b[0m         let\u001b[38;5;241m=\u001b[39mlet,\n\u001b[1;32m   2985\u001b[0m         comment\u001b[38;5;241m=\u001b[39mcomment,\n\u001b[1;32m   2986\u001b[0m         \u001b[38;5;241m*\u001b[39m\u001b[38;5;241m*\u001b[39mkwargs,\n\u001b[1;32m   2987\u001b[0m     )\n",
      "File \u001b[0;32m/opt/anaconda3/lib/python3.12/site-packages/pymongo/_csot.py:119\u001b[0m, in \u001b[0;36mapply.<locals>.csot_wrapper\u001b[0;34m(self, *args, **kwargs)\u001b[0m\n\u001b[1;32m    117\u001b[0m         \u001b[38;5;28;01mwith\u001b[39;00m _TimeoutContext(timeout):\n\u001b[1;32m    118\u001b[0m             \u001b[38;5;28;01mreturn\u001b[39;00m func(\u001b[38;5;28mself\u001b[39m, \u001b[38;5;241m*\u001b[39margs, \u001b[38;5;241m*\u001b[39m\u001b[38;5;241m*\u001b[39mkwargs)\n\u001b[0;32m--> 119\u001b[0m \u001b[38;5;28;01mreturn\u001b[39;00m func(\u001b[38;5;28mself\u001b[39m, \u001b[38;5;241m*\u001b[39margs, \u001b[38;5;241m*\u001b[39m\u001b[38;5;241m*\u001b[39mkwargs)\n",
      "File \u001b[0;32m/opt/anaconda3/lib/python3.12/site-packages/pymongo/synchronous/collection.py:2886\u001b[0m, in \u001b[0;36mCollection._aggregate\u001b[0;34m(self, aggregation_command, pipeline, cursor_class, session, explicit_session, let, comment, **kwargs)\u001b[0m\n\u001b[1;32m   2875\u001b[0m     kwargs[\u001b[38;5;124m\"\u001b[39m\u001b[38;5;124mcomment\u001b[39m\u001b[38;5;124m\"\u001b[39m] \u001b[38;5;241m=\u001b[39m comment\n\u001b[1;32m   2876\u001b[0m cmd \u001b[38;5;241m=\u001b[39m aggregation_command(\n\u001b[1;32m   2877\u001b[0m     \u001b[38;5;28mself\u001b[39m,\n\u001b[1;32m   2878\u001b[0m     cursor_class,\n\u001b[0;32m   (...)\u001b[0m\n\u001b[1;32m   2883\u001b[0m     user_fields\u001b[38;5;241m=\u001b[39m{\u001b[38;5;124m\"\u001b[39m\u001b[38;5;124mcursor\u001b[39m\u001b[38;5;124m\"\u001b[39m: {\u001b[38;5;124m\"\u001b[39m\u001b[38;5;124mfirstBatch\u001b[39m\u001b[38;5;124m\"\u001b[39m: \u001b[38;5;241m1\u001b[39m}},\n\u001b[1;32m   2884\u001b[0m )\n\u001b[0;32m-> 2886\u001b[0m \u001b[38;5;28;01mreturn\u001b[39;00m \u001b[38;5;28mself\u001b[39m\u001b[38;5;241m.\u001b[39m_database\u001b[38;5;241m.\u001b[39mclient\u001b[38;5;241m.\u001b[39m_retryable_read(\n\u001b[1;32m   2887\u001b[0m     cmd\u001b[38;5;241m.\u001b[39mget_cursor,\n\u001b[1;32m   2888\u001b[0m     cmd\u001b[38;5;241m.\u001b[39mget_read_preference(session),  \u001b[38;5;66;03m# type: ignore[arg-type]\u001b[39;00m\n\u001b[1;32m   2889\u001b[0m     session,\n\u001b[1;32m   2890\u001b[0m     retryable\u001b[38;5;241m=\u001b[39m\u001b[38;5;129;01mnot\u001b[39;00m cmd\u001b[38;5;241m.\u001b[39m_performs_write,\n\u001b[1;32m   2891\u001b[0m     operation\u001b[38;5;241m=\u001b[39m_Op\u001b[38;5;241m.\u001b[39mAGGREGATE,\n\u001b[1;32m   2892\u001b[0m )\n",
      "File \u001b[0;32m/opt/anaconda3/lib/python3.12/site-packages/pymongo/synchronous/mongo_client.py:1861\u001b[0m, in \u001b[0;36mMongoClient._retryable_read\u001b[0;34m(self, func, read_pref, session, operation, address, retryable, operation_id)\u001b[0m\n\u001b[1;32m   1856\u001b[0m \u001b[38;5;66;03m# Ensure that the client supports retrying on reads and there is no session in\u001b[39;00m\n\u001b[1;32m   1857\u001b[0m \u001b[38;5;66;03m# transaction, otherwise, we will not support retry behavior for this call.\u001b[39;00m\n\u001b[1;32m   1858\u001b[0m retryable \u001b[38;5;241m=\u001b[39m \u001b[38;5;28mbool\u001b[39m(\n\u001b[1;32m   1859\u001b[0m     retryable \u001b[38;5;129;01mand\u001b[39;00m \u001b[38;5;28mself\u001b[39m\u001b[38;5;241m.\u001b[39moptions\u001b[38;5;241m.\u001b[39mretry_reads \u001b[38;5;129;01mand\u001b[39;00m \u001b[38;5;129;01mnot\u001b[39;00m (session \u001b[38;5;129;01mand\u001b[39;00m session\u001b[38;5;241m.\u001b[39min_transaction)\n\u001b[1;32m   1860\u001b[0m )\n\u001b[0;32m-> 1861\u001b[0m \u001b[38;5;28;01mreturn\u001b[39;00m \u001b[38;5;28mself\u001b[39m\u001b[38;5;241m.\u001b[39m_retry_internal(\n\u001b[1;32m   1862\u001b[0m     func,\n\u001b[1;32m   1863\u001b[0m     session,\n\u001b[1;32m   1864\u001b[0m     \u001b[38;5;28;01mNone\u001b[39;00m,\n\u001b[1;32m   1865\u001b[0m     operation,\n\u001b[1;32m   1866\u001b[0m     is_read\u001b[38;5;241m=\u001b[39m\u001b[38;5;28;01mTrue\u001b[39;00m,\n\u001b[1;32m   1867\u001b[0m     address\u001b[38;5;241m=\u001b[39maddress,\n\u001b[1;32m   1868\u001b[0m     read_pref\u001b[38;5;241m=\u001b[39mread_pref,\n\u001b[1;32m   1869\u001b[0m     retryable\u001b[38;5;241m=\u001b[39mretryable,\n\u001b[1;32m   1870\u001b[0m     operation_id\u001b[38;5;241m=\u001b[39moperation_id,\n\u001b[1;32m   1871\u001b[0m )\n",
      "File \u001b[0;32m/opt/anaconda3/lib/python3.12/site-packages/pymongo/_csot.py:119\u001b[0m, in \u001b[0;36mapply.<locals>.csot_wrapper\u001b[0;34m(self, *args, **kwargs)\u001b[0m\n\u001b[1;32m    117\u001b[0m         \u001b[38;5;28;01mwith\u001b[39;00m _TimeoutContext(timeout):\n\u001b[1;32m    118\u001b[0m             \u001b[38;5;28;01mreturn\u001b[39;00m func(\u001b[38;5;28mself\u001b[39m, \u001b[38;5;241m*\u001b[39margs, \u001b[38;5;241m*\u001b[39m\u001b[38;5;241m*\u001b[39mkwargs)\n\u001b[0;32m--> 119\u001b[0m \u001b[38;5;28;01mreturn\u001b[39;00m func(\u001b[38;5;28mself\u001b[39m, \u001b[38;5;241m*\u001b[39margs, \u001b[38;5;241m*\u001b[39m\u001b[38;5;241m*\u001b[39mkwargs)\n",
      "File \u001b[0;32m/opt/anaconda3/lib/python3.12/site-packages/pymongo/synchronous/mongo_client.py:1828\u001b[0m, in \u001b[0;36mMongoClient._retry_internal\u001b[0;34m(self, func, session, bulk, operation, is_read, address, read_pref, retryable, operation_id)\u001b[0m\n\u001b[1;32m   1791\u001b[0m \u001b[38;5;129m@_csot\u001b[39m\u001b[38;5;241m.\u001b[39mapply\n\u001b[1;32m   1792\u001b[0m \u001b[38;5;28;01mdef\u001b[39;00m \u001b[38;5;21m_retry_internal\u001b[39m(\n\u001b[1;32m   1793\u001b[0m     \u001b[38;5;28mself\u001b[39m,\n\u001b[0;32m   (...)\u001b[0m\n\u001b[1;32m   1802\u001b[0m     operation_id: Optional[\u001b[38;5;28mint\u001b[39m] \u001b[38;5;241m=\u001b[39m \u001b[38;5;28;01mNone\u001b[39;00m,\n\u001b[1;32m   1803\u001b[0m ) \u001b[38;5;241m-\u001b[39m\u001b[38;5;241m>\u001b[39m T:\n\u001b[1;32m   1804\u001b[0m \u001b[38;5;250m    \u001b[39m\u001b[38;5;124;03m\"\"\"Internal retryable helper for all client transactions.\u001b[39;00m\n\u001b[1;32m   1805\u001b[0m \n\u001b[1;32m   1806\u001b[0m \u001b[38;5;124;03m    :param func: Callback function we want to retry\u001b[39;00m\n\u001b[0;32m   (...)\u001b[0m\n\u001b[1;32m   1815\u001b[0m \u001b[38;5;124;03m    :return: Output of the calling func()\u001b[39;00m\n\u001b[1;32m   1816\u001b[0m \u001b[38;5;124;03m    \"\"\"\u001b[39;00m\n\u001b[1;32m   1817\u001b[0m     \u001b[38;5;28;01mreturn\u001b[39;00m _ClientConnectionRetryable(\n\u001b[1;32m   1818\u001b[0m         mongo_client\u001b[38;5;241m=\u001b[39m\u001b[38;5;28mself\u001b[39m,\n\u001b[1;32m   1819\u001b[0m         func\u001b[38;5;241m=\u001b[39mfunc,\n\u001b[1;32m   1820\u001b[0m         bulk\u001b[38;5;241m=\u001b[39mbulk,\n\u001b[1;32m   1821\u001b[0m         operation\u001b[38;5;241m=\u001b[39moperation,\n\u001b[1;32m   1822\u001b[0m         is_read\u001b[38;5;241m=\u001b[39mis_read,\n\u001b[1;32m   1823\u001b[0m         session\u001b[38;5;241m=\u001b[39msession,\n\u001b[1;32m   1824\u001b[0m         read_pref\u001b[38;5;241m=\u001b[39mread_pref,\n\u001b[1;32m   1825\u001b[0m         address\u001b[38;5;241m=\u001b[39maddress,\n\u001b[1;32m   1826\u001b[0m         retryable\u001b[38;5;241m=\u001b[39mretryable,\n\u001b[1;32m   1827\u001b[0m         operation_id\u001b[38;5;241m=\u001b[39moperation_id,\n\u001b[0;32m-> 1828\u001b[0m     )\u001b[38;5;241m.\u001b[39mrun()\n",
      "File \u001b[0;32m/opt/anaconda3/lib/python3.12/site-packages/pymongo/synchronous/mongo_client.py:2565\u001b[0m, in \u001b[0;36m_ClientConnectionRetryable.run\u001b[0;34m(self)\u001b[0m\n\u001b[1;32m   2563\u001b[0m \u001b[38;5;28mself\u001b[39m\u001b[38;5;241m.\u001b[39m_check_last_error(check_csot\u001b[38;5;241m=\u001b[39m\u001b[38;5;28;01mTrue\u001b[39;00m)\n\u001b[1;32m   2564\u001b[0m \u001b[38;5;28;01mtry\u001b[39;00m:\n\u001b[0;32m-> 2565\u001b[0m     \u001b[38;5;28;01mreturn\u001b[39;00m \u001b[38;5;28mself\u001b[39m\u001b[38;5;241m.\u001b[39m_read() \u001b[38;5;28;01mif\u001b[39;00m \u001b[38;5;28mself\u001b[39m\u001b[38;5;241m.\u001b[39m_is_read \u001b[38;5;28;01melse\u001b[39;00m \u001b[38;5;28mself\u001b[39m\u001b[38;5;241m.\u001b[39m_write()\n\u001b[1;32m   2566\u001b[0m \u001b[38;5;28;01mexcept\u001b[39;00m ServerSelectionTimeoutError:\n\u001b[1;32m   2567\u001b[0m     \u001b[38;5;66;03m# The application may think the write was never attempted\u001b[39;00m\n\u001b[1;32m   2568\u001b[0m     \u001b[38;5;66;03m# if we raise ServerSelectionTimeoutError on the retry\u001b[39;00m\n\u001b[1;32m   2569\u001b[0m     \u001b[38;5;66;03m# attempt. Raise the original exception instead.\u001b[39;00m\n\u001b[1;32m   2570\u001b[0m     \u001b[38;5;28mself\u001b[39m\u001b[38;5;241m.\u001b[39m_check_last_error()\n",
      "File \u001b[0;32m/opt/anaconda3/lib/python3.12/site-packages/pymongo/synchronous/mongo_client.py:2708\u001b[0m, in \u001b[0;36m_ClientConnectionRetryable._read\u001b[0;34m(self)\u001b[0m\n\u001b[1;32m   2706\u001b[0m \u001b[38;5;28;01mif\u001b[39;00m \u001b[38;5;28mself\u001b[39m\u001b[38;5;241m.\u001b[39m_retrying \u001b[38;5;129;01mand\u001b[39;00m \u001b[38;5;129;01mnot\u001b[39;00m \u001b[38;5;28mself\u001b[39m\u001b[38;5;241m.\u001b[39m_retryable:\n\u001b[1;32m   2707\u001b[0m     \u001b[38;5;28mself\u001b[39m\u001b[38;5;241m.\u001b[39m_check_last_error()\n\u001b[0;32m-> 2708\u001b[0m \u001b[38;5;28;01mreturn\u001b[39;00m \u001b[38;5;28mself\u001b[39m\u001b[38;5;241m.\u001b[39m_func(\u001b[38;5;28mself\u001b[39m\u001b[38;5;241m.\u001b[39m_session, \u001b[38;5;28mself\u001b[39m\u001b[38;5;241m.\u001b[39m_server, conn, read_pref)\n",
      "File \u001b[0;32m/opt/anaconda3/lib/python3.12/site-packages/pymongo/synchronous/aggregation.py:164\u001b[0m, in \u001b[0;36m_AggregationCommand.get_cursor\u001b[0;34m(self, session, server, conn, read_preference)\u001b[0m\n\u001b[1;32m    161\u001b[0m     write_concern \u001b[38;5;241m=\u001b[39m \u001b[38;5;28;01mNone\u001b[39;00m\n\u001b[1;32m    163\u001b[0m \u001b[38;5;66;03m# Run command.\u001b[39;00m\n\u001b[0;32m--> 164\u001b[0m result \u001b[38;5;241m=\u001b[39m conn\u001b[38;5;241m.\u001b[39mcommand(\n\u001b[1;32m    165\u001b[0m     \u001b[38;5;28mself\u001b[39m\u001b[38;5;241m.\u001b[39m_database\u001b[38;5;241m.\u001b[39mname,\n\u001b[1;32m    166\u001b[0m     cmd,\n\u001b[1;32m    167\u001b[0m     read_preference,\n\u001b[1;32m    168\u001b[0m     \u001b[38;5;28mself\u001b[39m\u001b[38;5;241m.\u001b[39m_target\u001b[38;5;241m.\u001b[39mcodec_options,\n\u001b[1;32m    169\u001b[0m     parse_write_concern_error\u001b[38;5;241m=\u001b[39m\u001b[38;5;28;01mTrue\u001b[39;00m,\n\u001b[1;32m    170\u001b[0m     read_concern\u001b[38;5;241m=\u001b[39mread_concern,\n\u001b[1;32m    171\u001b[0m     write_concern\u001b[38;5;241m=\u001b[39mwrite_concern,\n\u001b[1;32m    172\u001b[0m     collation\u001b[38;5;241m=\u001b[39m\u001b[38;5;28mself\u001b[39m\u001b[38;5;241m.\u001b[39m_collation,\n\u001b[1;32m    173\u001b[0m     session\u001b[38;5;241m=\u001b[39msession,\n\u001b[1;32m    174\u001b[0m     client\u001b[38;5;241m=\u001b[39m\u001b[38;5;28mself\u001b[39m\u001b[38;5;241m.\u001b[39m_database\u001b[38;5;241m.\u001b[39mclient,\n\u001b[1;32m    175\u001b[0m     user_fields\u001b[38;5;241m=\u001b[39m\u001b[38;5;28mself\u001b[39m\u001b[38;5;241m.\u001b[39m_user_fields,\n\u001b[1;32m    176\u001b[0m )\n\u001b[1;32m    178\u001b[0m \u001b[38;5;28;01mif\u001b[39;00m \u001b[38;5;28mself\u001b[39m\u001b[38;5;241m.\u001b[39m_result_processor:\n\u001b[1;32m    179\u001b[0m     \u001b[38;5;28mself\u001b[39m\u001b[38;5;241m.\u001b[39m_result_processor(result, conn)\n",
      "File \u001b[0;32m/opt/anaconda3/lib/python3.12/site-packages/pymongo/synchronous/helpers.py:47\u001b[0m, in \u001b[0;36m_handle_reauth.<locals>.inner\u001b[0;34m(*args, **kwargs)\u001b[0m\n\u001b[1;32m     44\u001b[0m \u001b[38;5;28;01mfrom\u001b[39;00m \u001b[38;5;21;01mpymongo\u001b[39;00m\u001b[38;5;21;01m.\u001b[39;00m\u001b[38;5;21;01msynchronous\u001b[39;00m\u001b[38;5;21;01m.\u001b[39;00m\u001b[38;5;21;01mpool\u001b[39;00m \u001b[38;5;28;01mimport\u001b[39;00m Connection\n\u001b[1;32m     46\u001b[0m \u001b[38;5;28;01mtry\u001b[39;00m:\n\u001b[0;32m---> 47\u001b[0m     \u001b[38;5;28;01mreturn\u001b[39;00m func(\u001b[38;5;241m*\u001b[39margs, \u001b[38;5;241m*\u001b[39m\u001b[38;5;241m*\u001b[39mkwargs)\n\u001b[1;32m     48\u001b[0m \u001b[38;5;28;01mexcept\u001b[39;00m OperationFailure \u001b[38;5;28;01mas\u001b[39;00m exc:\n\u001b[1;32m     49\u001b[0m     \u001b[38;5;28;01mif\u001b[39;00m no_reauth:\n",
      "File \u001b[0;32m/opt/anaconda3/lib/python3.12/site-packages/pymongo/synchronous/pool.py:536\u001b[0m, in \u001b[0;36mConnection.command\u001b[0;34m(self, dbname, spec, read_preference, codec_options, check, allowable_errors, read_concern, write_concern, parse_write_concern_error, collation, session, client, retryable_write, publish_events, user_fields, exhaust_allowed)\u001b[0m\n\u001b[1;32m    534\u001b[0m     \u001b[38;5;28mself\u001b[39m\u001b[38;5;241m.\u001b[39m_raise_if_not_writable(unacknowledged)\n\u001b[1;32m    535\u001b[0m \u001b[38;5;28;01mtry\u001b[39;00m:\n\u001b[0;32m--> 536\u001b[0m     \u001b[38;5;28;01mreturn\u001b[39;00m command(\n\u001b[1;32m    537\u001b[0m         \u001b[38;5;28mself\u001b[39m,\n\u001b[1;32m    538\u001b[0m         dbname,\n\u001b[1;32m    539\u001b[0m         spec,\n\u001b[1;32m    540\u001b[0m         \u001b[38;5;28mself\u001b[39m\u001b[38;5;241m.\u001b[39mis_mongos,\n\u001b[1;32m    541\u001b[0m         read_preference,\n\u001b[1;32m    542\u001b[0m         codec_options,\n\u001b[1;32m    543\u001b[0m         session,\n\u001b[1;32m    544\u001b[0m         client,\n\u001b[1;32m    545\u001b[0m         check,\n\u001b[1;32m    546\u001b[0m         allowable_errors,\n\u001b[1;32m    547\u001b[0m         \u001b[38;5;28mself\u001b[39m\u001b[38;5;241m.\u001b[39maddress,\n\u001b[1;32m    548\u001b[0m         listeners,\n\u001b[1;32m    549\u001b[0m         \u001b[38;5;28mself\u001b[39m\u001b[38;5;241m.\u001b[39mmax_bson_size,\n\u001b[1;32m    550\u001b[0m         read_concern,\n\u001b[1;32m    551\u001b[0m         parse_write_concern_error\u001b[38;5;241m=\u001b[39mparse_write_concern_error,\n\u001b[1;32m    552\u001b[0m         collation\u001b[38;5;241m=\u001b[39mcollation,\n\u001b[1;32m    553\u001b[0m         compression_ctx\u001b[38;5;241m=\u001b[39m\u001b[38;5;28mself\u001b[39m\u001b[38;5;241m.\u001b[39mcompression_context,\n\u001b[1;32m    554\u001b[0m         use_op_msg\u001b[38;5;241m=\u001b[39m\u001b[38;5;28mself\u001b[39m\u001b[38;5;241m.\u001b[39mop_msg_enabled,\n\u001b[1;32m    555\u001b[0m         unacknowledged\u001b[38;5;241m=\u001b[39munacknowledged,\n\u001b[1;32m    556\u001b[0m         user_fields\u001b[38;5;241m=\u001b[39muser_fields,\n\u001b[1;32m    557\u001b[0m         exhaust_allowed\u001b[38;5;241m=\u001b[39mexhaust_allowed,\n\u001b[1;32m    558\u001b[0m         write_concern\u001b[38;5;241m=\u001b[39mwrite_concern,\n\u001b[1;32m    559\u001b[0m     )\n\u001b[1;32m    560\u001b[0m \u001b[38;5;28;01mexcept\u001b[39;00m (OperationFailure, NotPrimaryError):\n\u001b[1;32m    561\u001b[0m     \u001b[38;5;28;01mraise\u001b[39;00m\n",
      "File \u001b[0;32m/opt/anaconda3/lib/python3.12/site-packages/pymongo/synchronous/network.py:213\u001b[0m, in \u001b[0;36mcommand\u001b[0;34m(conn, dbname, spec, is_mongos, read_preference, codec_options, session, client, check, allowable_errors, address, listeners, max_bson_size, read_concern, parse_write_concern_error, collation, compression_ctx, use_op_msg, unacknowledged, user_fields, exhaust_allowed, write_concern)\u001b[0m\n\u001b[1;32m    211\u001b[0m             client\u001b[38;5;241m.\u001b[39m_process_response(response_doc, session)\n\u001b[1;32m    212\u001b[0m         \u001b[38;5;28;01mif\u001b[39;00m check:\n\u001b[0;32m--> 213\u001b[0m             helpers_shared\u001b[38;5;241m.\u001b[39m_check_command_response(\n\u001b[1;32m    214\u001b[0m                 response_doc,\n\u001b[1;32m    215\u001b[0m                 conn\u001b[38;5;241m.\u001b[39mmax_wire_version,\n\u001b[1;32m    216\u001b[0m                 allowable_errors,\n\u001b[1;32m    217\u001b[0m                 parse_write_concern_error\u001b[38;5;241m=\u001b[39mparse_write_concern_error,\n\u001b[1;32m    218\u001b[0m             )\n\u001b[1;32m    219\u001b[0m \u001b[38;5;28;01mexcept\u001b[39;00m \u001b[38;5;167;01mException\u001b[39;00m \u001b[38;5;28;01mas\u001b[39;00m exc:\n\u001b[1;32m    220\u001b[0m     duration \u001b[38;5;241m=\u001b[39m datetime\u001b[38;5;241m.\u001b[39mdatetime\u001b[38;5;241m.\u001b[39mnow() \u001b[38;5;241m-\u001b[39m start\n",
      "File \u001b[0;32m/opt/anaconda3/lib/python3.12/site-packages/pymongo/helpers_shared.py:247\u001b[0m, in \u001b[0;36m_check_command_response\u001b[0;34m(response, max_wire_version, allowable_errors, parse_write_concern_error)\u001b[0m\n\u001b[1;32m    244\u001b[0m \u001b[38;5;28;01melif\u001b[39;00m code \u001b[38;5;241m==\u001b[39m \u001b[38;5;241m43\u001b[39m:\n\u001b[1;32m    245\u001b[0m     \u001b[38;5;28;01mraise\u001b[39;00m CursorNotFound(errmsg, code, response, max_wire_version)\n\u001b[0;32m--> 247\u001b[0m \u001b[38;5;28;01mraise\u001b[39;00m OperationFailure(errmsg, code, response, max_wire_version)\n",
      "\u001b[0;31mOperationFailure\u001b[0m: PlanExecutor error during aggregation :: caused by :: vector field is indexed with 768 dimensions but queried with 384, full error: {'ok': 0.0, 'errmsg': 'PlanExecutor error during aggregation :: caused by :: vector field is indexed with 768 dimensions but queried with 384', 'code': 8, 'codeName': 'UnknownError', '$clusterTime': {'clusterTime': Timestamp(1743679317, 36), 'signature': {'hash': b']\\xaa|k\\xa0\\xd0\\xb4H,\\x89\\x86\\xa9\\x18\\xccQ\\x9dKK\\x93K', 'keyId': 7436340156212183079}}, 'operationTime': Timestamp(1743679317, 36)}"
     ]
    }
   ],
   "source": [
    "rat.train_model(X, y, epochs = 1000)"
   ]
  },
  {
   "cell_type": "code",
   "execution_count": null,
   "metadata": {},
   "outputs": [],
   "source": [
    "import torch\n",
    "torch.save(rat.state_dict(), \"saved_models/rat.pth\")"
   ]
  },
  {
   "cell_type": "code",
   "execution_count": null,
   "metadata": {},
   "outputs": [],
   "source": [
    "import pandas as pd\n",
    "import requests\n",
    "\n",
    "def fetch_macro_data():\n",
    "    # FRED series IDs for macroeconomic indicators\n",
    "    series_ids = {\n",
    "        \"Fed_Funds_Rate\": \"FEDFUNDS\",\n",
    "        \"CPI\": \"CPIAUCSL\",\n",
    "        \"GDP\": \"GDPC1\",\n",
    "        \"Unemployment_Rate\": \"UNRATE\",\n",
    "        \"Money_Supply\": \"M2SL\",\n",
    "        \"Retail_Sales\": \"RSXFS\",\n",
    "        \"Oil_Price\": \"IR14250\"\n",
    "    }\n",
    "\n",
    "    base_url = \"https://api.stlouisfed.org/fred/series/observations\"\n",
    "    macro_data = pd.DataFrame()\n",
    "\n",
    "    # Get the full range of dates you need (e.g., from 2000-01-01 to the most recent available date)\n",
    "    date_range = pd.date_range(start=\"2000-01-01\", end=pd.to_datetime('today'))\n",
    "\n",
    "    for column, series_id in series_ids.items():\n",
    "        # Construct the URL and parameters\n",
    "        params = {\n",
    "            \"api_key\": \"d2a5f8b122ea6046576eb67cd258404f\",  # Replace with your actual API key\n",
    "            \"file_type\": \"json\",\n",
    "            \"series_id\": series_id,\n",
    "            \"observation_start\": \"2000-01-01\",\n",
    "        }\n",
    "\n",
    "        # Fetch the data\n",
    "        response = requests.get(base_url, params=params)\n",
    "        data = response.json()\n",
    "\n",
    "        # Parse and format the response data\n",
    "        observations = data.get(\"observations\", [])\n",
    "        df = pd.DataFrame(observations)\n",
    "        df[\"date\"] = pd.to_datetime(df[\"date\"])\n",
    "        df.set_index(\"date\", inplace=True)\n",
    "        df[\"value\"] = pd.to_numeric(df[\"value\"], errors=\"coerce\")\n",
    "\n",
    "        # Create a DataFrame with all the dates in the date range\n",
    "        full_df = pd.DataFrame(index=date_range)\n",
    "\n",
    "        # Merge the fetched data with the full date range\n",
    "        full_df = full_df.merge(df[\"value\"], how=\"left\", left_index=True, right_index=True)\n",
    "        \n",
    "        # Forward fill missing data\n",
    "        full_df[\"value\"] = full_df[\"value\"].ffill()\n",
    "\n",
    "        # Add the data to the macro_data DataFrame\n",
    "        macro_data[column] = full_df[\"value\"]\n",
    "\n",
    "    # Return the final DataFrame with all macroeconomic indicators\n",
    "    return macro_data\n",
    "\n",
    "# Example usage:\n",
    "macro_data = fetch_macro_data()\n",
    "#macro_data.to_csv(\"../data/new_macro_data.csv\", index = True)"
   ]
  }
 ],
 "metadata": {
  "kernelspec": {
   "display_name": ".venv",
   "language": "python",
   "name": "python3"
  },
  "language_info": {
   "codemirror_mode": {
    "name": "ipython",
    "version": 3
   },
   "file_extension": ".py",
   "mimetype": "text/x-python",
   "name": "python",
   "nbconvert_exporter": "python",
   "pygments_lexer": "ipython3",
   "version": "3.12.4"
  }
 },
 "nbformat": 4,
 "nbformat_minor": 2
}
