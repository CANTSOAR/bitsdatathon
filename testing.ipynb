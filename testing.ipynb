{
 "cells": [
  {
   "cell_type": "code",
   "execution_count": 1,
   "metadata": {},
   "outputs": [],
   "source": [
    "import yfinance as yf"
   ]
  },
  {
   "cell_type": "code",
   "execution_count": 2,
   "metadata": {},
   "outputs": [
    {
     "name": "stdout",
     "output_type": "stream",
     "text": [
      "YF.download() has changed argument auto_adjust default to True\n"
     ]
    },
    {
     "name": "stderr",
     "output_type": "stream",
     "text": [
      "[*********************100%***********************]  1 of 1 completed\n"
     ]
    }
   ],
   "source": [
    "data = yf.download(\"AAPL\")"
   ]
  },
  {
   "cell_type": "code",
   "execution_count": 5,
   "metadata": {},
   "outputs": [
    {
     "data": {
      "text/plain": [
       "array([250.76428223, 253.20159912, 247.77757263, 249.51565552,\n",
       "       254.21051025, 254.98965454, 257.91644287, 258.73550415,\n",
       "       255.30929565, 251.92301941, 250.14497375, 243.5821991 ,\n",
       "       243.09272766, 244.73092651, 241.94400024, 242.43344116,\n",
       "       236.58987427, 234.14256287, 233.02378845, 237.60874939,\n",
       "       228.00930786, 229.72741699, 222.39547729, 223.58416748,\n",
       "       223.41436768, 222.5353241 , 229.60754395, 237.99832153,\n",
       "       239.09712219, 237.32905579, 235.74081421, 227.75958252,\n",
       "       232.54432678, 232.21469116, 232.96386719, 227.38000488,\n",
       "       227.6499939 , 232.61999512, 236.86999512, 241.52999878,\n",
       "       244.6000061 , 244.47000122, 244.86999512, 245.83000183,\n",
       "       245.55000305, 247.1000061 , 247.03999329, 240.36000061,\n",
       "       237.30000305, 241.83999634])"
      ]
     },
     "execution_count": 5,
     "metadata": {},
     "output_type": "execute_result"
    }
   ],
   "source": [
    "data[(\"Close\", \"AAPL\")].values[-50:]"
   ]
  }
 ],
 "metadata": {
  "kernelspec": {
   "display_name": ".venv",
   "language": "python",
   "name": "python3"
  },
  "language_info": {
   "codemirror_mode": {
    "name": "ipython",
    "version": 3
   },
   "file_extension": ".py",
   "mimetype": "text/x-python",
   "name": "python",
   "nbconvert_exporter": "python",
   "pygments_lexer": "ipython3",
   "version": "3.12.8"
  }
 },
 "nbformat": 4,
 "nbformat_minor": 2
}
