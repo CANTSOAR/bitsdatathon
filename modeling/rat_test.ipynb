{
 "cells": [
  {
   "cell_type": "code",
   "execution_count": 1,
   "metadata": {},
   "outputs": [
    {
     "name": "stderr",
     "output_type": "stream",
     "text": [
      "/Users/dipalshah/Desktop/bitsdatathon/.venv/lib/python3.12/site-packages/tqdm/auto.py:21: TqdmWarning: IProgress not found. Please update jupyter and ipywidgets. See https://ipywidgets.readthedocs.io/en/stable/user_install.html\n",
      "  from .autonotebook import tqdm as notebook_tqdm\n"
     ]
    }
   ],
   "source": [
    "from rat import RAT"
   ]
  },
  {
   "cell_type": "code",
   "execution_count": 2,
   "metadata": {},
   "outputs": [
    {
     "name": "stderr",
     "output_type": "stream",
     "text": [
      "/Users/dipalshah/Desktop/bitsdatathon/.venv/lib/python3.12/site-packages/torch/nn/modules/transformer.py:286: UserWarning: enable_nested_tensor is True, but self.use_nested_tensor is False because encoder_layer.self_attn.batch_first was not True(use batch_first for better inference performance)\n",
      "  warnings.warn(f\"enable_nested_tensor is True, but self.use_nested_tensor is False because {why_not_sparsity_fast_path}\")\n"
     ]
    }
   ],
   "source": [
    "rat_model = RAT(input_dim=22, embed_dim=64, num_heads=4, num_layers=2, output_dim=2)"
   ]
  },
  {
   "cell_type": "code",
   "execution_count": 3,
   "metadata": {},
   "outputs": [
    {
     "name": "stderr",
     "output_type": "stream",
     "text": [
      "/Users/dipalshah/Desktop/bitsdatathon/.venv/lib/python3.12/site-packages/torch/optim/lr_scheduler.py:28: UserWarning: The verbose parameter is deprecated. Please use get_last_lr() to access the learning rate.\n",
      "  warnings.warn(\"The verbose parameter is deprecated. Please use get_last_lr() \"\n"
     ]
    },
    {
     "name": "stdout",
     "output_type": "stream",
     "text": [
      "Epoch 1/100, Train Loss: 0.755417, Val Loss: 0.860523\n",
      "Epoch 5/100, Train Loss: 0.382554, Val Loss: 0.482256\n",
      "Epoch 10/100, Train Loss: 0.356490, Val Loss: 0.508452\n",
      "Epoch 15/100, Train Loss: 0.323744, Val Loss: 0.529848\n",
      "Epoch 20/100, Train Loss: 0.307671, Val Loss: 0.545319\n",
      "Early stopping at epoch 20\n"
     ]
    },
    {
     "data": {
      "text/plain": [
       "0.4822556773821513"
      ]
     },
     "execution_count": 3,
     "metadata": {},
     "output_type": "execute_result"
    }
   ],
   "source": [
    "# Get data (assuming this returns DataFrame with all features)\n",
    "data = rat_model.get_data(\"AAPL\")\n",
    "\n",
    "# Separate stock price/volume from other features\n",
    "stock_features = data[['Close', 'Volume']].values  # Price and volume\n",
    "other_features = data.drop(['Close', 'Volume'], axis=1).values.astype(dtype=\"float32\")  # Other features\n",
    "\n",
    "# Format data for training\n",
    "input_length = 30  # 30 days of history\n",
    "output_length = 15  # predict 15 days ahead\n",
    "X, y = rat_model.format_data_separate(stock_features, other_features, input_length, output_length)\n",
    "\n",
    "# Train the model\n",
    "batch_size = 32\n",
    "epochs = 100\n",
    "rat_model.train_model(epochs, batch_size, X, y)"
   ]
  },
  {
   "cell_type": "code",
   "execution_count": 4,
   "metadata": {},
   "outputs": [
    {
     "data": {
      "text/plain": [
       "tensor([[[1.6426e+02, 9.6346e+07],\n",
       "         [1.6488e+02, 9.9179e+07],\n",
       "         [1.6475e+02, 9.9727e+07],\n",
       "         [1.6457e+02, 9.9814e+07],\n",
       "         [1.6436e+02, 9.9805e+07],\n",
       "         [1.6417e+02, 9.9770e+07],\n",
       "         [1.6400e+02, 9.9729e+07],\n",
       "         [1.6386e+02, 9.9692e+07],\n",
       "         [1.6374e+02, 9.9659e+07],\n",
       "         [1.6364e+02, 9.9633e+07],\n",
       "         [1.6356e+02, 9.9612e+07],\n",
       "         [1.6349e+02, 9.9597e+07],\n",
       "         [1.6343e+02, 9.9586e+07],\n",
       "         [1.6338e+02, 9.9579e+07],\n",
       "         [1.6334e+02, 9.9575e+07]]])"
      ]
     },
     "execution_count": 4,
     "metadata": {},
     "output_type": "execute_result"
    }
   ],
   "source": [
    "rat_model.predict(X[-1])"
   ]
  }
 ],
 "metadata": {
  "kernelspec": {
   "display_name": ".venv",
   "language": "python",
   "name": "python3"
  },
  "language_info": {
   "codemirror_mode": {
    "name": "ipython",
    "version": 3
   },
   "file_extension": ".py",
   "mimetype": "text/x-python",
   "name": "python",
   "nbconvert_exporter": "python",
   "pygments_lexer": "ipython3",
   "version": "3.12.8"
  }
 },
 "nbformat": 4,
 "nbformat_minor": 2
}
